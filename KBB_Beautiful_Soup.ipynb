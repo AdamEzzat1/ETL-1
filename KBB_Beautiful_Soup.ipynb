{
 "cells": [
  {
   "cell_type": "code",
   "execution_count": 97,
   "metadata": {},
   "outputs": [
    {
     "name": "stdout",
     "output_type": "stream",
     "text": [
      "        Maker      Model                                           Link\n",
      "0        Ford       F150                 https://www.kbb.com/ford/f150/\n",
      "1   Chevrolet  Silverado  https://www.kbb.com/chevrolet/silverado-1500/\n",
      "2         Ram       1500           https://www.kbb.com/ram/1500-trucks/\n",
      "3      Toyota      Camry              https://www.kbb.com/toyota/camry/\n",
      "4      Toyota    Corolla            https://www.kbb.com/toyota/corolla/\n",
      "..        ...        ...                                            ...\n",
      "67     Subaru    Outback       https://www.kbb.com/subaru/outback/2018/\n",
      "68     Toyota      Camry         https://www.kbb.com/toyota/camry/2018/\n",
      "69     Toyota     Tacoma        https://www.kbb.com/toyota/tacoma/2018/\n",
      "70     Toyota     Tundra        https://www.kbb.com/toyota/tundra/2018/\n",
      "71      Volvo       XC70           https://www.kbb.com/volvo/xc70/2016/\n",
      "\n",
      "[72 rows x 3 columns]\n"
     ]
    }
   ],
   "source": [
    "from     bs4 import  BeautifulSoup as soup\n",
    "import requests\n",
    "import pandas as pd\n",
    "from urllib.request import urlopen\n",
    "\n",
    "kbb_url = \"http://www.kbb.com/car-values\"\n",
    "r = requests.get(kbb_url)\n",
    "# create soup1 object for the top level HTML page (to search recursively for makers, models and Links)\n",
    "soup1 = soup( r.text, \"html.parser\")\n",
    "#print(soup1.prettify()\n",
    "maker_name = []         # list of Maker names\n",
    "maker_url = []              # list of corresponding URLs pointing to page has Models\n",
    "model_name = []         # list of models for a given Maker\n",
    "model_url = []              # list of corresponding URLs pointing to page has Links for different years\n",
    "maker = []           # list of Makers\n",
    "model = []           # list of models corresponding to list of Makers\n",
    "link = []           # list of links or URL for each Make/Model combination\n",
    "tmp = 0\n",
    "\n",
    "# search recursively for all TAG ‘a’ with certain attributes and then filter out irrelevant TAGs\n",
    "for  tag   in   soup1.find_all('a', class_=\"css-8wht64-StyledLink-unstyledLinkStyles-headingLinkStyles e1mkd2hi0\", target=\"_self\", type=\"unstyled\") :\n",
    "    if tag.has_attr('data-analytics') :\n",
    "        continue\n",
    "    tmp = str(tag.text)\n",
    "    lst = str.split(tmp)\n",
    "    #print(lst[0], lst[1])\n",
    "    maker.append(lst[0])\n",
    "    model.append(lst[1])\n",
    "    link.append(tag['href'])\n",
    "    #print(maker, model, link)\n",
    "dict = {'Maker' : maker,'Model' : model, 'Link' : link}\n",
    "df  = pd.DataFrame(dict) \n",
    "print (df)\n",
    "   \n",
    "\n"
   ]
  }
 ],
 "metadata": {
  "kernelspec": {
   "display_name": "Python 3",
   "language": "python",
   "name": "python3"
  },
  "language_info": {
   "codemirror_mode": {
    "name": "ipython",
    "version": 3
   },
   "file_extension": ".py",
   "mimetype": "text/x-python",
   "name": "python",
   "nbconvert_exporter": "python",
   "pygments_lexer": "ipython3",
   "version": "3.7.4"
  }
 },
 "nbformat": 4,
 "nbformat_minor": 2
}
