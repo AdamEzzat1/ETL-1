{
 "cells": [
  {
   "cell_type": "code",
   "execution_count": 42,
   "metadata": {},
   "outputs": [
    {
     "name": "stdout",
     "output_type": "stream",
     "text": [
      "        Maker      Model                                           Link\n",
      "0        Ford       F150                 https://www.kbb.com/ford/f150/\n",
      "1   Chevrolet  Silverado  https://www.kbb.com/chevrolet/silverado-1500/\n",
      "2         Ram       1500           https://www.kbb.com/ram/1500-trucks/\n",
      "3      Toyota      Camry              https://www.kbb.com/toyota/camry/\n",
      "4      Toyota    Corolla            https://www.kbb.com/toyota/corolla/\n",
      "..        ...        ...                                            ...\n",
      "67     Subaru    Outback       https://www.kbb.com/subaru/outback/2018/\n",
      "68     Toyota      Camry         https://www.kbb.com/toyota/camry/2018/\n",
      "69     Toyota     Tacoma        https://www.kbb.com/toyota/tacoma/2018/\n",
      "70     Toyota     Tundra        https://www.kbb.com/toyota/tundra/2018/\n",
      "71      Volvo       XC70           https://www.kbb.com/volvo/xc70/2016/\n",
      "\n",
      "[72 rows x 3 columns]\n"
     ]
    }
   ],
   "source": [
    "from     bs4 import  BeautifulSoup as soup\n",
    "import requests\n",
    "import pandas as pd\n",
    "from urllib.request import urlopen\n",
    "\n",
    "kbb_url = \"http://www.kbb.com/car-values\"\n",
    "r = requests.get(kbb_url)\n",
    "# create soup1 object for the top level HTML page (to search recursively for makers, models and Links)\n",
    "soup1 = soup( r.content, 'html.parser')\n",
    "#print(soup1.prettify())\n",
    "maker_name = []         # list of Maker names\n",
    "maker_url = []          # list of corresponding URLs pointing to page has Models\n",
    "model_name = []         # list of models for a given Maker\n",
    "model_url = []          # list of corresponding URLs pointing to page has Links for different years\n",
    "#m_url = \"\"             # empty stringfor global maker_url variable\n",
    "\n",
    "#print(soup1.prettify())\n",
    "#search recursively for all TAG ‘a’ with certain class attributes\n",
    "for  mk in soup1.find_all('div' , 'div', class_=\"css-pchemp-Label-body e1smo4ng4\") :     # list of Makers\n",
    "    print(\"found Tags\")\n",
    "    # get the maker name!!\n",
    "    name = str(mk.text)\n",
    "    print(name)\n",
    "    if name  in  maker_name  :\n",
    "        continue\n",
    "    #maker_name.append(name)\n",
    "    \n",
    "    # get the model page for the above maker name\n",
    "    for  page in soup1.find_all('a', 'h3', class_=\"css-1cb369g-NavContainer e1smo4ng0\") :\n",
    "        print(\"found Maker Page\")\n",
    "        url = page.find('a')['href']\n",
    "        murl = str(u.text)\n",
    "        print(murl)\n",
    "        #if  murl in maker_url :\n",
    "            #continue\n",
    "        #maker_url.append(murl)\n",
    "\n",
    "    # take one maker URL at-a-time and create soup2 object\n",
    "    r = requests.get(murl)                                     # maker URL\n",
    "    soup2 = soup(r.content, 'html.parser')\n",
    "    print(soup2.prettify())\n",
    "    \n",
    "    # get model names and one link per model\n",
    "    for  model  in soup2.find_all('a', 'h3', class_=\"js-ymm-link result-ymm-title js-sponsored-url\" ) :\n",
    "        #mo_name = model.find('h3', class_=\"title-three\")\n",
    "        #m_name = str(mo_name.text)\n",
    "        m_name = str(model.text)                               # model name\n",
    "        #if m_name in  model_name :\n",
    "            #continue\n",
    "        #model_name.append(m_name)\n",
    "        # get the link / URL for the above model name\n",
    "        m_link = model.find('a')['href']                       # model link\n",
    "        #if m_link  in model_url :\n",
    "            #continue\n",
    "        maker_name.append(name)\n",
    "        model_name(m_name)\n",
    "        model_url.append(m_link)\n",
    "        #print(name, murl, m_name, m_link)\n",
    "\n",
    "#print(maker, model, link)\n",
    "dict = {'Maker' : maker,'Model' : model, 'Link' : link}\n",
    "df  = pd.DataFrame(dict) \n",
    "print (df)\n",
    "   \n",
    "\n"
   ]
  },
  {
   "cell_type": "code",
   "execution_count": 35,
   "metadata": {},
   "outputs": [
    {
     "name": "stdout",
     "output_type": "stream",
     "text": [
      "        Maker      Model                                           Link\n",
      "0        Ford       F150                 https://www.kbb.com/ford/f150/\n",
      "1   Chevrolet  Silverado  https://www.kbb.com/chevrolet/silverado-1500/\n",
      "2         Ram       1500           https://www.kbb.com/ram/1500-trucks/\n",
      "3      Toyota      Camry              https://www.kbb.com/toyota/camry/\n",
      "4      Toyota    Corolla            https://www.kbb.com/toyota/corolla/\n",
      "..        ...        ...                                            ...\n",
      "67     Subaru    Outback       https://www.kbb.com/subaru/outback/2018/\n",
      "68     Toyota      Camry         https://www.kbb.com/toyota/camry/2018/\n",
      "69     Toyota     Tacoma        https://www.kbb.com/toyota/tacoma/2018/\n",
      "70     Toyota     Tundra        https://www.kbb.com/toyota/tundra/2018/\n",
      "71      Volvo       XC70           https://www.kbb.com/volvo/xc70/2016/\n",
      "\n",
      "[72 rows x 3 columns]\n"
     ]
    }
   ],
   "source": [
    "from     bs4 import  BeautifulSoup as soup\n",
    "import requests\n",
    "import pandas as pd\n",
    "from urllib.request import urlopen\n",
    "\n",
    "kbb_url = \"http://www.kbb.com/car-values\"\n",
    "r = requests.get(kbb_url)\n",
    "# create soup1 object for the top level HTML page (to search recursively for makers, models and Links)\n",
    "soup1 = soup( r.text, \"html.parser\")\n",
    "#print(soup1.prettify()\n",
    "maker_name = []         # list of Maker names\n",
    "maker_url = []              # list of corresponding URLs pointing to page has Models\n",
    "model_name = []         # list of models for a given Maker\n",
    "model_url = []              # list of corresponding URLs pointing to page has Links for different years\n",
    "maker = []           # list of Makers\n",
    "model = []           # list of models corresponding to list of Makers\n",
    "link = []           # list of links or URL for each Make/Model combination\n",
    "tmp = 0\n",
    "\n",
    "# search recursively for all TAG ‘a’ with certain attributes and then filter out irrelevant TAGs\n",
    "for  tag   in   soup1.find_all('a', class_=\"css-8wht64-StyledLink-unstyledLinkStyles-headingLinkStyles e1mkd2hi0\", target=\"_self\", type=\"unstyled\") :\n",
    "    if tag.has_attr('data-analytics') :\n",
    "        continue\n",
    "    tmp = str(tag.text)\n",
    "    lst = str.split(tmp)\n",
    "    #print(lst[0], lst[1])\n",
    "    maker.append(lst[0])\n",
    "    model.append(lst[1])\n",
    "    link.append(tag['href'])\n",
    "    #print(maker, model, link)\n",
    "dict = {'Maker' : maker,'Model' : model, 'Link' : link}\n",
    "df  = pd.DataFrame(dict) \n",
    "print (df)"
   ]
  },
  {
   "cell_type": "code",
   "execution_count": 101,
   "metadata": {},
   "outputs": [
    {
     "ename": "SyntaxError",
     "evalue": "unexpected EOF while parsing (<ipython-input-101-20342e58d816>, line 1)",
     "output_type": "error",
     "traceback": [
      "\u001b[1;36m  File \u001b[1;32m\"<ipython-input-101-20342e58d816>\"\u001b[1;36m, line \u001b[1;32m1\u001b[0m\n\u001b[1;33m    for  tag   in   soup1.find_all('a') :\u001b[0m\n\u001b[1;37m                                         ^\u001b[0m\n\u001b[1;31mSyntaxError\u001b[0m\u001b[1;31m:\u001b[0m unexpected EOF while parsing\n"
     ]
    }
   ],
   "source": [
    "for  tag   in   soup1.find_all('a') :"
   ]
  },
  {
   "cell_type": "code",
   "execution_count": null,
   "metadata": {},
   "outputs": [],
   "source": [
    "<a tabindex=\"-1\" href=\"/acura/\" data-analytics=\"__make_acura\" data-analytics-type=\"click\" data-lean-auto=\"browseByMakeLink\" class=\"css-1cb369g-NavContainer e1smo4ng0\"><div tabindex=\"0\" class=\"css-1uzgfl8-ImageLabelContainer-activeState-enableStates e1smo4ng1\"><div class=\"css-eb9h0u-ImageContainer e1smo4ng2\"><img src=\"//file.kbb.com/kbb/images/autoshow/logos/badgeonly/acura.png?interpolation=high-quality&amp;downsize=30:30\" width=\"30\" height=\"30\" display=\"block\" class=\"css-10za83-StyledImage ee6fjv20\"></div><div><div class=\"css-pchemp-Label-body e1smo4ng4\">Acura</div></div></div></a>"
   ]
  }
 ],
 "metadata": {
  "kernelspec": {
   "display_name": "Python 3",
   "language": "python",
   "name": "python3"
  },
  "language_info": {
   "codemirror_mode": {
    "name": "ipython",
    "version": 3
   },
   "file_extension": ".py",
   "mimetype": "text/x-python",
   "name": "python",
   "nbconvert_exporter": "python",
   "pygments_lexer": "ipython3",
   "version": "3.7.4"
  }
 },
 "nbformat": 4,
 "nbformat_minor": 2
}
